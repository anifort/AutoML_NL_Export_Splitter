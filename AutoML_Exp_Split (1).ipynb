{
 "cells": [
  {
   "cell_type": "code",
   "execution_count": 1,
   "metadata": {},
   "outputs": [],
   "source": [
    "# If data exported in gs://aniftos-example-dataset/Test_AutoML_Exports\n",
    "# read_location = \"gs://aniftos-example-dataset/automl_export_example/export_data-test_import_entity-2020-04-09T13:39:13.950Z/text_extraction.csv\"\n",
    "# write_location = \"gs://aniftos-example-dataset/automl_export_example/bla/\"\n",
    "\n",
    "read_location = \"gs://bonibon/text/export_data-entity_extraction-2020-07-27T16:31:13.349Z/text_extraction.csv\"\n",
    "write_location = \"gs://bonibon/text/bla/\"\n",
    "            \n",
    "read_location= read_location.split('/')\n",
    "read_bucket_name = read_location[2]\n",
    "read_object = '/'.join(read_location[3:])\n",
    "\n",
    "write_location = write_location.split('/')\n",
    "write_bucket_name = write_location[2]\n",
    "write_prefix = '/'.join(write_location[3:])"
   ]
  },
  {
   "cell_type": "code",
   "execution_count": 2,
   "metadata": {},
   "outputs": [],
   "source": [
    "from google.cloud import storage\n",
    "import sys, os\n",
    "from io import StringIO\n",
    "import csv\n",
    "import time\n",
    "\n",
    "storage_client = storage.Client()\n",
    "bucket = storage_client.get_bucket(read_bucket_name)\n"
   ]
  },
  {
   "cell_type": "code",
   "execution_count": 6,
   "metadata": {},
   "outputs": [
    {
     "name": "stdout",
     "output_type": "stream",
     "text": [
      
     ]
    }
   ],
   "source": [
    "blob = bucket.get_blob(read_object)\n",
    "csv_str = blob.download_as_string()\n",
    "f = StringIO(csv_str.decode())\n",
    "reader = csv.reader(f, delimiter=',')\n",
    "\n",
    "\n",
    "seconds = time.time()\n",
    "\n",
    "write_bucket = storage_client.get_bucket(write_bucket_name)\n",
    "csv_tmp = ''\n",
    "\n",
    "# maximum size limit for the output files after the split.\n",
    "size_limit = 200000000\n",
    "\n",
    "for row in reader:\n",
    "    print('\\t'.join(row))\n",
    "    counter=0\n",
    "    set_type = row[0]\n",
    "    path = row[1].split('/')\n",
    "    \n",
    "    bucket_tmp = storage_client.get_bucket(path[2])\n",
    "    blob_tmp = bucket.get_blob('/'.join(path[3:]))\n",
    "    json_data = blob_tmp.download_as_string()\n",
    "    tmp_str=\"\"\n",
    "    \n",
    "    for line in json_data.splitlines():\n",
    "        if(sys.getsizeof(tmp_str+line.decode(\"utf-8\")+\"\\n\")> size_limit):\n",
    "            \n",
    "            filepath = os.path.join(write_prefix,blob_tmp.name.split(\"/\")[-1][:-6]+\"_\"+str(counter)+\".jsonl\")\n",
    "            write_blob = write_bucket.blob(filepath)\n",
    "            write_blob.upload_from_string(tmp_str) \n",
    "            csv_tmp += \",\".join([set_type, os.path.join(write_bucket_name,filepath)])+\"\\n\"\n",
    "            tmp_str = ''\n",
    "            counter+=1\n",
    "            \n",
    "        tmp_str += line.decode(\"utf-8\")+\"\\n\"\n",
    "     \n",
    "    filepath = os.path.join(write_prefix,blob_tmp.name.split(\"/\")[-1][:-6]+\"_\"+str(counter)+\".jsonl\")\n",
    "    write_blob = write_bucket.blob(filepath)\n",
    "    write_blob.upload_from_string(tmp_str)   \n",
    "    csv_tmp += \",\".join([set_type, os.path.join(write_bucket_name,filepath)])+\"\\n\" \n",
    "    \n",
    "write_blob = write_bucket.blob(os.path.join(write_prefix,\"output_csv_\"+str(seconds)+\".csv\"))\n",
    "write_blob.upload_from_string(csv_tmp)   "
   ]
  },
  {
   "cell_type": "code",
   "execution_count": null,
   "metadata": {},
   "outputs": [],
   "source": []
  }
 ],
 "metadata": {
  "environment": {
   "name": "tf2-gpu.2-1.m54",
   "type": "gcloud",
   "uri": "gcr.io/deeplearning-platform-release/tf2-gpu.2-1:m54"
  },
  "kernelspec": {
   "display_name": "Python 3",
   "language": "python",
   "name": "python3"
  },
  "language_info": {
   "codemirror_mode": {
    "name": "ipython",
    "version": 3
   },
   "file_extension": ".py",
   "mimetype": "text/x-python",
   "name": "python",
   "nbconvert_exporter": "python",
   "pygments_lexer": "ipython3",
   "version": "3.7.6"
  }
 },
 "nbformat": 4,
 "nbformat_minor": 4
}
